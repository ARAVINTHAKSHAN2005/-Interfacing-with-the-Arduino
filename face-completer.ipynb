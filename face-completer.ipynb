{
 "cells": [
  {
   "cell_type": "raw",
   "id": "8b4d8ba8",
   "metadata": {
    "_cell_guid": "b1076dfc-b9ad-4769-8c92-a6c4dae69d19",
    "_uuid": "8f2839f25d086af736a60e9eeb907d3b93b6e0e5",
    "papermill": {
     "duration": 0.002439,
     "end_time": "2024-08-14T07:30:17.505023",
     "exception": false,
     "start_time": "2024-08-14T07:30:17.502584",
     "status": "completed"
    },
    "tags": []
   },
   "source": [
    "# This Python 3 environment comes with many helpful analytics libraries installed\n",
    "# It is defined by the kaggle/python Docker image: https://github.com/kaggle/docker-python\n",
    "# For example, here's several helpful packages to load\n",
    "\n",
    "import numpy as np # linear algebra\n",
    "import pandas as pd # data processing, CSV file I/O (e.g. pd.read_csv)\n",
    "\n",
    "# Input data files are available in the read-only \"../input/\" directory\n",
    "# For example, running this (by clicking run or pressing Shift+Enter) will list all files under the input directory\n",
    "\n",
    "import os\n",
    "for dirname, _, filenames in os.walk('/kaggle/input'):\n",
    "    for filename in filenames:\n",
    "        print(os.path.join(dirname, filename))\n",
    "\n",
    "# You can write up to 20GB to the current directory (/kaggle/working/) that gets preserved as output when you create a version using \"Save & Run All\" \n",
    "# You can also write temporary files to /kaggle/temp/, but they won't be saved outside of the current session"
   ]
  },
  {
   "cell_type": "code",
   "execution_count": 1,
   "id": "9e28e78e",
   "metadata": {
    "execution": {
     "iopub.execute_input": "2024-08-14T07:30:17.510654Z",
     "iopub.status.busy": "2024-08-14T07:30:17.510018Z",
     "iopub.status.idle": "2024-08-14T07:30:19.420355Z",
     "shell.execute_reply": "2024-08-14T07:30:19.419420Z"
    },
    "papermill": {
     "duration": 1.915622,
     "end_time": "2024-08-14T07:30:19.422769",
     "exception": false,
     "start_time": "2024-08-14T07:30:17.507147",
     "status": "completed"
    },
    "tags": []
   },
   "outputs": [
    {
     "name": "stdout",
     "output_type": "stream",
     "text": [
      "Cloning into 'gan-project'...\r\n",
      "remote: Enumerating objects: 13, done.\u001b[K\r\n",
      "remote: Counting objects: 100% (13/13), done.\u001b[K\r\n",
      "remote: Compressing objects: 100% (13/13), done.\u001b[K\r\n",
      "remote: Total 13 (delta 2), reused 0 (delta 0), pack-reused 0 (from 0)\u001b[K\r\n",
      "Unpacking objects: 100% (13/13), 6.94 KiB | 2.31 MiB/s, done.\r\n"
     ]
    }
   ],
   "source": [
    "! git clone https://github.com/aravinthakshan/gan-project.git"
   ]
  },
  {
   "cell_type": "code",
   "execution_count": 2,
   "id": "f29b8f7c",
   "metadata": {
    "execution": {
     "iopub.execute_input": "2024-08-14T07:30:19.429321Z",
     "iopub.status.busy": "2024-08-14T07:30:19.428556Z",
     "iopub.status.idle": "2024-08-14T07:30:20.407792Z",
     "shell.execute_reply": "2024-08-14T07:30:20.406526Z"
    },
    "papermill": {
     "duration": 0.984962,
     "end_time": "2024-08-14T07:30:20.410231",
     "exception": false,
     "start_time": "2024-08-14T07:30:19.425269",
     "status": "completed"
    },
    "tags": []
   },
   "outputs": [],
   "source": [
    "!cd gan-project/"
   ]
  },
  {
   "cell_type": "code",
   "execution_count": 3,
   "id": "29459ea8",
   "metadata": {
    "execution": {
     "iopub.execute_input": "2024-08-14T07:30:20.416495Z",
     "iopub.status.busy": "2024-08-14T07:30:20.416189Z",
     "iopub.status.idle": "2024-08-14T07:30:28.312264Z",
     "shell.execute_reply": "2024-08-14T07:30:28.311352Z"
    },
    "papermill": {
     "duration": 7.901861,
     "end_time": "2024-08-14T07:30:28.314654",
     "exception": false,
     "start_time": "2024-08-14T07:30:20.412793",
     "status": "completed"
    },
    "tags": []
   },
   "outputs": [
    {
     "name": "stdout",
     "output_type": "stream",
     "text": [
      "Traceback (most recent call last):\r\n",
      "  File \"/kaggle/working/gan-project/main.py\", line 3, in <module>\r\n",
      "    from train import train\r\n",
      "  File \"/kaggle/working/gan-project/train.py\", line 7, in <module>\r\n",
      "    from models import Generator, Discriminator, PerceptualLoss\r\n",
      "ImportError: cannot import name 'PerceptualLoss' from 'models' (/kaggle/working/gan-project/models.py)\r\n"
     ]
    }
   ],
   "source": [
    "!python3 /kaggle/working/gan-project/main.py --mode train --data_dir /kaggle/input/celeba --batch_size 64 --lr 0.0001 --num_epochs 100 --num_workers 2 --checkpoint_dir /kaggle/working/ --mask_side random"
   ]
  }
 ],
 "metadata": {
  "kaggle": {
   "accelerator": "gpu",
   "dataSources": [
    {
     "datasetId": 5541412,
     "sourceId": 9170290,
     "sourceType": "datasetVersion"
    }
   ],
   "dockerImageVersionId": 30747,
   "isGpuEnabled": true,
   "isInternetEnabled": true,
   "language": "python",
   "sourceType": "notebook"
  },
  "kernelspec": {
   "display_name": "Python 3",
   "language": "python",
   "name": "python3"
  },
  "language_info": {
   "codemirror_mode": {
    "name": "ipython",
    "version": 3
   },
   "file_extension": ".py",
   "mimetype": "text/x-python",
   "name": "python",
   "nbconvert_exporter": "python",
   "pygments_lexer": "ipython3",
   "version": "3.10.13"
  },
  "papermill": {
   "default_parameters": {},
   "duration": 13.749059,
   "end_time": "2024-08-14T07:30:28.535173",
   "environment_variables": {},
   "exception": null,
   "input_path": "__notebook__.ipynb",
   "output_path": "__notebook__.ipynb",
   "parameters": {},
   "start_time": "2024-08-14T07:30:14.786114",
   "version": "2.5.0"
  }
 },
 "nbformat": 4,
 "nbformat_minor": 5
}
